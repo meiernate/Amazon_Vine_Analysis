{
  "nbformat": 4,
  "nbformat_minor": 0,
  "metadata": {
    "colab": {
      "provenance": []
    },
    "kernelspec": {
      "name": "python3",
      "display_name": "Python 3"
    },
    "language_info": {
      "name": "python"
    }
  },
  "cells": [
    {
      "cell_type": "code",
      "execution_count": 1,
      "metadata": {
        "colab": {
          "base_uri": "https://localhost:8080/"
        },
        "id": "6GYOMEvIOeFV",
        "outputId": "c5412c56-8537-4140-e25a-185f8dcd3e55"
      },
      "outputs": [
        {
          "output_type": "stream",
          "name": "stdout",
          "text": [
            "\r0% [Working]\r            \rHit:1 http://archive.ubuntu.com/ubuntu bionic InRelease\n",
            "\r0% [Connecting to security.ubuntu.com (185.125.190.39)] [Connected to cloud.r-p\r                                                                               \rGet:2 http://archive.ubuntu.com/ubuntu bionic-updates InRelease [88.7 kB]\n",
            "\r                                                                               \rGet:3 https://cloud.r-project.org/bin/linux/ubuntu bionic-cran40/ InRelease [3,626 B]\n",
            "Get:4 http://archive.ubuntu.com/ubuntu bionic-backports InRelease [83.3 kB]\n",
            "Get:5 http://security.ubuntu.com/ubuntu bionic-security InRelease [88.7 kB]\n",
            "Ign:6 https://developer.download.nvidia.com/compute/machine-learning/repos/ubuntu1804/x86_64  InRelease\n",
            "Hit:7 https://developer.download.nvidia.com/compute/cuda/repos/ubuntu1804/x86_64  InRelease\n",
            "Hit:8 https://developer.download.nvidia.com/compute/machine-learning/repos/ubuntu1804/x86_64  Release\n",
            "Get:9 http://ppa.launchpad.net/c2d4u.team/c2d4u4.0+/ubuntu bionic InRelease [15.9 kB]\n",
            "Hit:10 http://ppa.launchpad.net/cran/libgit2/ubuntu bionic InRelease\n",
            "Hit:11 http://ppa.launchpad.net/deadsnakes/ppa/ubuntu bionic InRelease\n",
            "Hit:12 http://ppa.launchpad.net/graphics-drivers/ppa/ubuntu bionic InRelease\n",
            "Get:14 http://ppa.launchpad.net/c2d4u.team/c2d4u4.0+/ubuntu bionic/main Sources [2,235 kB]\n",
            "Get:15 http://ppa.launchpad.net/c2d4u.team/c2d4u4.0+/ubuntu bionic/main amd64 Packages [1,143 kB]\n",
            "Fetched 3,659 kB in 5s (693 kB/s)\n",
            "Reading package lists... Done\n"
          ]
        }
      ],
      "source": [
        "import os\n",
        "# Find the latest version of spark 3.2 from http://www.apache.org/dist/spark/ and enter as the spark version\n",
        "# For example:\n",
        "# spark_version = 'spark-3.2.3'\n",
        "spark_version = 'spark-3.2.3'\n",
        "os.environ['SPARK_VERSION']=spark_version\n",
        "\n",
        "# Install Spark and Java\n",
        "!apt-get update\n",
        "!apt-get install openjdk-11-jdk-headless -qq > /dev/null\n",
        "!wget -q http://www.apache.org/dist/spark/$SPARK_VERSION/$SPARK_VERSION-bin-hadoop2.7.tgz\n",
        "!tar xf $SPARK_VERSION-bin-hadoop2.7.tgz\n",
        "!pip install -q findspark\n",
        "\n",
        "# Set Environment Variables\n",
        "import os\n",
        "os.environ[\"JAVA_HOME\"] = \"/usr/lib/jvm/java-11-openjdk-amd64\"\n",
        "os.environ[\"SPARK_HOME\"] = f\"/content/{spark_version}-bin-hadoop2.7\"\n",
        "\n",
        "# Start a SparkSession\n",
        "import findspark\n",
        "findspark.init()"
      ]
    },
    {
      "cell_type": "code",
      "source": [
        "# Download the Postgres driver that will allow Spark to interact with Postgres.\n",
        "!wget https://jdbc.postgresql.org/download/postgresql-42.2.16.jar"
      ],
      "metadata": {
        "colab": {
          "base_uri": "https://localhost:8080/"
        },
        "id": "eCp-0hMnO30Z",
        "outputId": "70683e77-ce22-4cef-bcde-1ff0e8248eb7"
      },
      "execution_count": 2,
      "outputs": [
        {
          "output_type": "stream",
          "name": "stdout",
          "text": [
            "--2022-12-22 01:32:56--  https://jdbc.postgresql.org/download/postgresql-42.2.16.jar\n",
            "Resolving jdbc.postgresql.org (jdbc.postgresql.org)... 72.32.157.228, 2001:4800:3e1:1::228\n",
            "Connecting to jdbc.postgresql.org (jdbc.postgresql.org)|72.32.157.228|:443... connected.\n",
            "HTTP request sent, awaiting response... 200 OK\n",
            "Length: 1002883 (979K) [application/java-archive]\n",
            "Saving to: ‘postgresql-42.2.16.jar’\n",
            "\n",
            "postgresql-42.2.16. 100%[===================>] 979.38K  4.60MB/s    in 0.2s    \n",
            "\n",
            "2022-12-22 01:32:56 (4.60 MB/s) - ‘postgresql-42.2.16.jar’ saved [1002883/1002883]\n",
            "\n"
          ]
        }
      ]
    },
    {
      "cell_type": "code",
      "source": [
        "from pyspark.sql import SparkSession\n",
        "spark = SparkSession.builder.appName(\"M17-Amazon-Challenge\").config(\"spark.driver.extraClassPath\",\"/content/postgresql-42.2.16.jar\").getOrCreate()"
      ],
      "metadata": {
        "id": "Zf0M-NwFO_Pd"
      },
      "execution_count": 3,
      "outputs": []
    },
    {
      "cell_type": "markdown",
      "source": [
        "# Load Amazon Data into Spark DataFrame"
      ],
      "metadata": {
        "id": "ZK3WDTWhPMVt"
      }
    },
    {
      "cell_type": "code",
      "source": [
        "from pyspark import SparkFiles\n",
        "url = \"https://s3.amazonaws.com/amazon-reviews-pds/tsv/amazon_reviews_us_Digital_Video_Games_v1_00.tsv.gz\"\n",
        "spark.sparkContext.addFile(url)\n",
        "df = spark.read.option(\"encoding\", \"UTF-8\").csv(SparkFiles.get(\"\"), sep=\"\\t\", header=True, inferSchema=True)\n",
        "df.show()"
      ],
      "metadata": {
        "colab": {
          "base_uri": "https://localhost:8080/"
        },
        "id": "wxZoLyUpPP-i",
        "outputId": "e17dff39-15ac-4b15-ffa7-31ee8bd040b2"
      },
      "execution_count": 4,
      "outputs": [
        {
          "output_type": "stream",
          "name": "stdout",
          "text": [
            "+-----------+-----------+--------------+----------+--------------+--------------------+-------------------+-----------+-------------+-----------+----+-----------------+--------------------+--------------------+-----------+\n",
            "|marketplace|customer_id|     review_id|product_id|product_parent|       product_title|   product_category|star_rating|helpful_votes|total_votes|vine|verified_purchase|     review_headline|         review_body|review_date|\n",
            "+-----------+-----------+--------------+----------+--------------+--------------------+-------------------+-----------+-------------+-----------+----+-----------------+--------------------+--------------------+-----------+\n",
            "|         US|   21269168| RSH1OZ87OYK92|B013PURRZW|     603406193|Madden NFL 16 - X...|Digital_Video_Games|          2|            2|          3|   N|                N|A slight improvem...|I keep buying mad...| 2015-08-31|\n",
            "|         US|     133437|R1WFOQ3N9BO65I|B00F4CEHNK|     341969535| Xbox Live Gift Card|Digital_Video_Games|          5|            0|          0|   N|                Y|          Five Stars|             Awesome| 2015-08-31|\n",
            "|         US|   45765011| R3YOOS71KM5M9|B00DNHLFQA|     951665344|Command & Conquer...|Digital_Video_Games|          5|            0|          0|   N|                Y|Hail to the great...|If you are preppi...| 2015-08-31|\n",
            "|         US|     113118|R3R14UATT3OUFU|B004RMK5QG|     395682204|Playstation Plus ...|Digital_Video_Games|          5|            0|          0|   N|                Y|          Five Stars|             Perfect| 2015-08-31|\n",
            "|         US|   22151364| RV2W9SGDNQA2C|B00G9BNLQE|     640460561|Saints Row IV - E...|Digital_Video_Games|          5|            0|          0|   N|                Y|          Five Stars|            Awesome!| 2015-08-31|\n",
            "|         US|   22151364|R3CFKLIZ0I2KOB|B00IMIL498|     621922192|Double Dragon: Ne...|Digital_Video_Games|          5|            0|          0|   N|                Y|          Five Stars|            Awesome!| 2015-08-31|\n",
            "|         US|   38426028|R1LRYU1V0T3O38|B00S00IJH8|     215163395|              Sims 4|Digital_Video_Games|          4|            0|          0|   N|                Y|i like the new sk...|i like the new sk...| 2015-08-31|\n",
            "|         US|    6057518| R44QKV6FE5CJ2|B004RMK4BC|     384246568|Playstation Netwo...|Digital_Video_Games|          5|            0|          0|   N|                Y|          Five Stars|               Super| 2015-08-31|\n",
            "|         US|   20715661|R2TX1KLPXXXNYS|B00K59HKIQ|     384246568|Playstation Netwo...|Digital_Video_Games|          5|            0|          0|   N|                Y|         Easy & Fast|Excellent, fast a...| 2015-08-31|\n",
            "|         US|   26540306|R1JEEW4C6R89BA|B00K59HKIQ|     384246568|Playstation Netwo...|Digital_Video_Games|          5|            0|          0|   N|                Y|          Five Stars|                  Ok| 2015-08-31|\n",
            "|         US|    8926809|R3B3UHK1FO0ERS|B004774IPU|     151985175|Sid Meier's Civil...|Digital_Video_Games|          1|            0|          0|   N|                N|I am still playin...|As has been writt...| 2015-08-31|\n",
            "|         US|   31525534|R2GVSDHW513SS1|B002LIT9EC|     695277014|Build-a-lot 4: Po...|Digital_Video_Games|          5|            0|          0|   N|                Y|Probably the best...|Probably the best...| 2015-08-31|\n",
            "|         US|   22151364|R1R1NT516PYT73|B008ALUBYQ|     112160022|       Borderlands 2|Digital_Video_Games|          5|            0|          0|   N|                Y|          Five Stars|            Awesome!| 2015-08-31|\n",
            "|         US|   22977584|R3K624QDQKENN9|B010KYDNDG|     835376637|Minecraft for PC/...|Digital_Video_Games|          4|            0|          0|   N|                Y|                 FUN|COOL BUT IT LAGES...| 2015-08-31|\n",
            "|         US|   45765011| R1FOXH7PCJX3V|B008ALUBYQ|     112160022|       Borderlands 2|Digital_Video_Games|          1|            0|          2|   N|                Y|            One Star|Lames purchase I ...| 2015-08-31|\n",
            "|         US|    2239522| RA1246M1OMDWC|B004RMK4P8|     384246568|Playstation Netwo...|Digital_Video_Games|          5|            0|          0|   N|                Y|          Five Stars|               Great| 2015-08-31|\n",
            "|         US|   48805811|R2I9SXWB0PAEKQ|B004RMK5QG|     395682204|Playstation Plus ...|Digital_Video_Games|          5|            0|          0|   N|                Y|          Five Stars|          Awesome!!!| 2015-08-31|\n",
            "|         US|   18646481|R3UGL544NA0G9C|B00BI16Z22|     552981447|Brink of Consciou...|Digital_Video_Games|          4|            0|          0|   N|                Y|       worth playing|pretty good but n...| 2015-08-31|\n",
            "|         US|   10310935|R1CBA4Y92GVAVM|B004VSTQ2A|     232803743|Xbox Live Subscri...|Digital_Video_Games|          5|            0|          0|   N|                Y|          Five Stars|What can I say......| 2015-08-31|\n",
            "|         US|    5587610|R24NEKNR01VEHU|B00GAC1D2G|     384246568|Playstation Netwo...|Digital_Video_Games|          5|            0|          0|   N|                Y|        Just amazing|Very fast to rece...| 2015-08-31|\n",
            "+-----------+-----------+--------------+----------+--------------+--------------------+-------------------+-----------+-------------+-----------+----+-----------------+--------------------+--------------------+-----------+\n",
            "only showing top 20 rows\n",
            "\n"
          ]
        }
      ]
    },
    {
      "cell_type": "code",
      "source": [
        "from pyspark.sql.functions import to_date,col,count\n",
        "# Read in the Review dataset as a DataFrame"
      ],
      "metadata": {
        "id": "0soAZvzaQC3Q"
      },
      "execution_count": 19,
      "outputs": []
    },
    {
      "cell_type": "markdown",
      "source": [
        "# Deliverable 2"
      ],
      "metadata": {
        "id": "0koti_SAQApv"
      }
    },
    {
      "cell_type": "code",
      "source": [
        "# Create the vine_table DataFrame\n",
        "vine_df = df.select([\"review_id\", \"star_rating\", \"helpful_votes\", \"total_votes\", \"vine\", \"verified_purchase\"])\n",
        "vine_df.show()"
      ],
      "metadata": {
        "colab": {
          "base_uri": "https://localhost:8080/"
        },
        "id": "scsMWtRYQJz0",
        "outputId": "0dff2074-760a-4747-8ac7-7938a59b71fb"
      },
      "execution_count": 6,
      "outputs": [
        {
          "output_type": "stream",
          "name": "stdout",
          "text": [
            "+--------------+-----------+-------------+-----------+----+-----------------+\n",
            "|     review_id|star_rating|helpful_votes|total_votes|vine|verified_purchase|\n",
            "+--------------+-----------+-------------+-----------+----+-----------------+\n",
            "| RSH1OZ87OYK92|          2|            2|          3|   N|                N|\n",
            "|R1WFOQ3N9BO65I|          5|            0|          0|   N|                Y|\n",
            "| R3YOOS71KM5M9|          5|            0|          0|   N|                Y|\n",
            "|R3R14UATT3OUFU|          5|            0|          0|   N|                Y|\n",
            "| RV2W9SGDNQA2C|          5|            0|          0|   N|                Y|\n",
            "|R3CFKLIZ0I2KOB|          5|            0|          0|   N|                Y|\n",
            "|R1LRYU1V0T3O38|          4|            0|          0|   N|                Y|\n",
            "| R44QKV6FE5CJ2|          5|            0|          0|   N|                Y|\n",
            "|R2TX1KLPXXXNYS|          5|            0|          0|   N|                Y|\n",
            "|R1JEEW4C6R89BA|          5|            0|          0|   N|                Y|\n",
            "|R3B3UHK1FO0ERS|          1|            0|          0|   N|                N|\n",
            "|R2GVSDHW513SS1|          5|            0|          0|   N|                Y|\n",
            "|R1R1NT516PYT73|          5|            0|          0|   N|                Y|\n",
            "|R3K624QDQKENN9|          4|            0|          0|   N|                Y|\n",
            "| R1FOXH7PCJX3V|          1|            0|          2|   N|                Y|\n",
            "| RA1246M1OMDWC|          5|            0|          0|   N|                Y|\n",
            "|R2I9SXWB0PAEKQ|          5|            0|          0|   N|                Y|\n",
            "|R3UGL544NA0G9C|          4|            0|          0|   N|                Y|\n",
            "|R1CBA4Y92GVAVM|          5|            0|          0|   N|                Y|\n",
            "|R24NEKNR01VEHU|          5|            0|          0|   N|                Y|\n",
            "+--------------+-----------+-------------+-----------+----+-----------------+\n",
            "only showing top 20 rows\n",
            "\n"
          ]
        }
      ]
    },
    {
      "cell_type": "code",
      "source": [
        "# Filter the data and create a new DataFrame\n",
        "# Retrieve all rows where total_votes count is equal or greater than 20\n",
        "total_votes_df = vine_df.filter( col(\"total_votes\") >= 20 )\n",
        "total_votes_df.show()"
      ],
      "metadata": {
        "colab": {
          "base_uri": "https://localhost:8080/"
        },
        "id": "nHybTyH6Qk12",
        "outputId": "c430ccce-8d80-4a4e-dce2-1bcba2798a94"
      },
      "execution_count": 20,
      "outputs": [
        {
          "output_type": "stream",
          "name": "stdout",
          "text": [
            "+--------------+-----------+-------------+-----------+----+-----------------+\n",
            "|     review_id|star_rating|helpful_votes|total_votes|vine|verified_purchase|\n",
            "+--------------+-----------+-------------+-----------+----+-----------------+\n",
            "| RV4UH0OWW97K4|          5|           19|         22|   N|                N|\n",
            "| RG6GT6G9WNYT1|          5|           22|         22|   N|                N|\n",
            "| RFBXE3Q3GYQYO|          5|           68|         70|   N|                Y|\n",
            "|R17V95WYC9ZXDD|          1|            0|         20|   N|                Y|\n",
            "|R235HEIYY15NZX|          1|            0|         26|   N|                Y|\n",
            "|R3BZ4DHX2YHC4V|          1|            1|         32|   N|                Y|\n",
            "| RZSC8Q4630BV1|          1|            1|         26|   N|                N|\n",
            "|R34S64NPUZOS90|          5|           23|         24|   N|                N|\n",
            "|R35O3GV3HZUX8B|          5|           58|         63|   N|                N|\n",
            "|R2AZAMZCEUOKQT|          1|           29|         40|   N|                Y|\n",
            "|R103RUVEH5YWQ4|          1|           69|         90|   N|                Y|\n",
            "|R2QNPQLXMCXOH3|          5|           35|         37|   N|                Y|\n",
            "|R3IXRKTYAKSP3I|          1|            2|         36|   N|                N|\n",
            "|R2XR1JSAVZ4G8E|          1|            6|         23|   N|                Y|\n",
            "| R93USRL9TCC0A|          1|            7|         22|   N|                Y|\n",
            "|R3F8QIC548OKSB|          1|            4|         41|   N|                N|\n",
            "| RJHVI076CU1PK|          1|            5|         74|   N|                N|\n",
            "|R2841JSGJYEO5X|          1|            1|         28|   N|                N|\n",
            "|R2YK81PG05KMN8|          1|            4|         33|   N|                Y|\n",
            "|R1RHI2XSCV52AI|          1|            4|         61|   N|                Y|\n",
            "+--------------+-----------+-------------+-----------+----+-----------------+\n",
            "only showing top 20 rows\n",
            "\n"
          ]
        }
      ]
    },
    {
      "cell_type": "code",
      "source": [
        "# Using total_votes_df, create a new DF with the rows where the helpful_votes / total_votes >= 50% \n",
        "helpful_votes_df = total_votes_df.withColumn('helpful_votes_percent', col(\"helpful_votes\")/col(\"total_votes\") )\n",
        "helpful_votes_df = helpful_votes_df.filter(col(\"helpful_votes_percent\") >= 0.5)\n",
        "helpful_votes_df.show()"
      ],
      "metadata": {
        "colab": {
          "base_uri": "https://localhost:8080/"
        },
        "id": "-ckoTk9rQrE-",
        "outputId": "7fc1f5d1-3685-4488-d65c-cb257c0483ff"
      },
      "execution_count": 11,
      "outputs": [
        {
          "output_type": "stream",
          "name": "stdout",
          "text": [
            "+--------------+-----------+-------------+-----------+----+-----------------+---------------------+\n",
            "|     review_id|star_rating|helpful_votes|total_votes|vine|verified_purchase|helpful_votes_percent|\n",
            "+--------------+-----------+-------------+-----------+----+-----------------+---------------------+\n",
            "| RV4UH0OWW97K4|          5|           19|         22|   N|                N|   0.8636363636363636|\n",
            "| RG6GT6G9WNYT1|          5|           22|         22|   N|                N|                  1.0|\n",
            "| RFBXE3Q3GYQYO|          5|           68|         70|   N|                Y|   0.9714285714285714|\n",
            "|R34S64NPUZOS90|          5|           23|         24|   N|                N|   0.9583333333333334|\n",
            "|R35O3GV3HZUX8B|          5|           58|         63|   N|                N|   0.9206349206349206|\n",
            "|R2AZAMZCEUOKQT|          1|           29|         40|   N|                Y|                0.725|\n",
            "|R103RUVEH5YWQ4|          1|           69|         90|   N|                Y|   0.7666666666666667|\n",
            "|R2QNPQLXMCXOH3|          5|           35|         37|   N|                Y|   0.9459459459459459|\n",
            "| R1JENRRBQ1YMY|          5|           35|         36|   N|                N|   0.9722222222222222|\n",
            "|R2NS0HPQ2DD5XU|          1|           35|         45|   N|                N|   0.7777777777777778|\n",
            "| RIRX9H2QJFD1P|          5|           49|         53|   N|                Y|   0.9245283018867925|\n",
            "|R39R2LEKGIEUFS|          5|           69|         77|   N|                Y|   0.8961038961038961|\n",
            "|R2NCX85FTSTWHC|          5|           65|         68|   N|                N|   0.9558823529411765|\n",
            "|R1IN7ZA9ZCZEVM|          5|           17|         25|   N|                Y|                 0.68|\n",
            "|R253TQ098JL914|          2|           22|         23|   N|                Y|   0.9565217391304348|\n",
            "|R3OPTDO4EDS6LN|          5|           30|         30|   N|                Y|                  1.0|\n",
            "|R1FGHHDQ4P21C0|          1|           30|         33|   N|                N|   0.9090909090909091|\n",
            "|R3FQ1CSDIOWWRY|          1|           71|         80|   N|                N|               0.8875|\n",
            "|R3NJE21NUCII5L|          5|          135|        144|   N|                Y|               0.9375|\n",
            "| RRXJ8H18EFNFZ|          4|           26|         32|   N|                Y|               0.8125|\n",
            "+--------------+-----------+-------------+-----------+----+-----------------+---------------------+\n",
            "only showing top 20 rows\n",
            "\n"
          ]
        }
      ]
    },
    {
      "cell_type": "code",
      "source": [
        "# Filter helpful_votes_df and create a new DataFrame with all rows that are a Vine\n",
        "vine_true_review_df = helpful_votes_df.filter(col(\"vine\") == \"Y\")\n",
        "vine_true_review_df.show()"
      ],
      "metadata": {
        "colab": {
          "base_uri": "https://localhost:8080/"
        },
        "id": "Qz2eqd1KQ1PH",
        "outputId": "9c0ab405-0580-42bc-c992-de25b516255a"
      },
      "execution_count": 14,
      "outputs": [
        {
          "output_type": "stream",
          "name": "stdout",
          "text": [
            "+---------+-----------+-------------+-----------+----+-----------------+---------------------+\n",
            "|review_id|star_rating|helpful_votes|total_votes|vine|verified_purchase|helpful_votes_percent|\n",
            "+---------+-----------+-------------+-----------+----+-----------------+---------------------+\n",
            "+---------+-----------+-------------+-----------+----+-----------------+---------------------+\n",
            "\n"
          ]
        }
      ]
    },
    {
      "cell_type": "code",
      "source": [
        "# Filter helpful_votes_df and create a new DataFrame with all rows that are NOT a Vine\n",
        "vine_false_review_df = helpful_votes_df.filter(col(\"vine\") == \"N\")\n",
        "vine_false_review_df.show()"
      ],
      "metadata": {
        "id": "BNPpdoAFU0Jt",
        "colab": {
          "base_uri": "https://localhost:8080/"
        },
        "outputId": "d129e0d8-65d6-42d9-8aa9-a1b2ccc3a7e0"
      },
      "execution_count": 16,
      "outputs": [
        {
          "output_type": "stream",
          "name": "stdout",
          "text": [
            "+--------------+-----------+-------------+-----------+----+-----------------+---------------------+\n",
            "|     review_id|star_rating|helpful_votes|total_votes|vine|verified_purchase|helpful_votes_percent|\n",
            "+--------------+-----------+-------------+-----------+----+-----------------+---------------------+\n",
            "| RV4UH0OWW97K4|          5|           19|         22|   N|                N|   0.8636363636363636|\n",
            "| RG6GT6G9WNYT1|          5|           22|         22|   N|                N|                  1.0|\n",
            "| RFBXE3Q3GYQYO|          5|           68|         70|   N|                Y|   0.9714285714285714|\n",
            "|R34S64NPUZOS90|          5|           23|         24|   N|                N|   0.9583333333333334|\n",
            "|R35O3GV3HZUX8B|          5|           58|         63|   N|                N|   0.9206349206349206|\n",
            "|R2AZAMZCEUOKQT|          1|           29|         40|   N|                Y|                0.725|\n",
            "|R103RUVEH5YWQ4|          1|           69|         90|   N|                Y|   0.7666666666666667|\n",
            "|R2QNPQLXMCXOH3|          5|           35|         37|   N|                Y|   0.9459459459459459|\n",
            "| R1JENRRBQ1YMY|          5|           35|         36|   N|                N|   0.9722222222222222|\n",
            "|R2NS0HPQ2DD5XU|          1|           35|         45|   N|                N|   0.7777777777777778|\n",
            "| RIRX9H2QJFD1P|          5|           49|         53|   N|                Y|   0.9245283018867925|\n",
            "|R39R2LEKGIEUFS|          5|           69|         77|   N|                Y|   0.8961038961038961|\n",
            "|R2NCX85FTSTWHC|          5|           65|         68|   N|                N|   0.9558823529411765|\n",
            "|R1IN7ZA9ZCZEVM|          5|           17|         25|   N|                Y|                 0.68|\n",
            "|R253TQ098JL914|          2|           22|         23|   N|                Y|   0.9565217391304348|\n",
            "|R3OPTDO4EDS6LN|          5|           30|         30|   N|                Y|                  1.0|\n",
            "|R1FGHHDQ4P21C0|          1|           30|         33|   N|                N|   0.9090909090909091|\n",
            "|R3FQ1CSDIOWWRY|          1|           71|         80|   N|                N|               0.8875|\n",
            "|R3NJE21NUCII5L|          5|          135|        144|   N|                Y|               0.9375|\n",
            "| RRXJ8H18EFNFZ|          4|           26|         32|   N|                Y|               0.8125|\n",
            "+--------------+-----------+-------------+-----------+----+-----------------+---------------------+\n",
            "only showing top 20 rows\n",
            "\n"
          ]
        }
      ]
    },
    {
      "cell_type": "code",
      "source": [
        "# Determine the total number of reviews, the number of 5-star reviews,\n",
        "# and the percentage of 5-star reviews for the two types of reviews\n",
        "\n",
        "# Total review values for vine true and false\n",
        "vtrue_total_reviews = vine_true_review_df.count()\n",
        "vfalse_total_reviews = vine_false_review_df.count()\n",
        "\n",
        "# Total five star reviews for vine true and false\n",
        "vtrue_fivestar_reviews = vine_true_review_df.filter(\"star_rating == 5\").count()\n",
        "vfalse_fivestar_reviews = vine_false_review_df.filter(\"star_rating == 5\").count()\n",
        "\n",
        "# Percentage of five star reviews for vine true and flase\n",
        "try:\n",
        "  vtrue_percent_fivestar = vtrue_fivestar_reviews / vtrue_total_reviews\n",
        "except ZeroDivisionError:\n",
        "  vtrue_percent_fivestar = 0\n",
        "\n",
        "try:\n",
        "  vfalse_percent_fivestar = vfalse_fivestar_reviews / vfalse_total_reviews\n",
        "except ZeroDivisionError:\n",
        "  vfalse_percent_fivestar = 0"
      ],
      "metadata": {
        "id": "TN2tmOg3U7wK"
      },
      "execution_count": 23,
      "outputs": []
    },
    {
      "cell_type": "code",
      "source": [
        "import pandas as pd\n",
        "\n",
        "# Setup data for DataFrame\n",
        "data = {\n",
        "    'vine': ['Y', 'N'],\n",
        "    'total_reviews': [vtrue_total_reviews, vfalse_total_reviews],\n",
        "    'total_fivestar': [vtrue_fivestar_reviews, vfalse_fivestar_reviews],\n",
        "    'percentage_fivestar': [vtrue_percent_fivestar, vfalse_percent_fivestar]\n",
        "}\n",
        "\n",
        "# Create DataFrame\n",
        "result_df = pd.DataFrame.from_dict(data)\n",
        "\n",
        "# Show DataFrame\n",
        "result_df"
      ],
      "metadata": {
        "colab": {
          "base_uri": "https://localhost:8080/",
          "height": 112
        },
        "id": "ie31bfgSpWlo",
        "outputId": "9751f83c-721e-43c5-ea60-2fc9b3e23734"
      },
      "execution_count": 31,
      "outputs": [
        {
          "output_type": "execute_result",
          "data": {
            "text/plain": [
              "  vine  total_reviews  total_fivestar  percentage_fivestar\n",
              "0    Y              0               0             0.000000\n",
              "1    N           1685             631             0.374481"
            ],
            "text/html": [
              "\n",
              "  <div id=\"df-75e69398-fd05-46e6-ad16-7e33de460d03\">\n",
              "    <div class=\"colab-df-container\">\n",
              "      <div>\n",
              "<style scoped>\n",
              "    .dataframe tbody tr th:only-of-type {\n",
              "        vertical-align: middle;\n",
              "    }\n",
              "\n",
              "    .dataframe tbody tr th {\n",
              "        vertical-align: top;\n",
              "    }\n",
              "\n",
              "    .dataframe thead th {\n",
              "        text-align: right;\n",
              "    }\n",
              "</style>\n",
              "<table border=\"1\" class=\"dataframe\">\n",
              "  <thead>\n",
              "    <tr style=\"text-align: right;\">\n",
              "      <th></th>\n",
              "      <th>vine</th>\n",
              "      <th>total_reviews</th>\n",
              "      <th>total_fivestar</th>\n",
              "      <th>percentage_fivestar</th>\n",
              "    </tr>\n",
              "  </thead>\n",
              "  <tbody>\n",
              "    <tr>\n",
              "      <th>0</th>\n",
              "      <td>Y</td>\n",
              "      <td>0</td>\n",
              "      <td>0</td>\n",
              "      <td>0.000000</td>\n",
              "    </tr>\n",
              "    <tr>\n",
              "      <th>1</th>\n",
              "      <td>N</td>\n",
              "      <td>1685</td>\n",
              "      <td>631</td>\n",
              "      <td>0.374481</td>\n",
              "    </tr>\n",
              "  </tbody>\n",
              "</table>\n",
              "</div>\n",
              "      <button class=\"colab-df-convert\" onclick=\"convertToInteractive('df-75e69398-fd05-46e6-ad16-7e33de460d03')\"\n",
              "              title=\"Convert this dataframe to an interactive table.\"\n",
              "              style=\"display:none;\">\n",
              "        \n",
              "  <svg xmlns=\"http://www.w3.org/2000/svg\" height=\"24px\"viewBox=\"0 0 24 24\"\n",
              "       width=\"24px\">\n",
              "    <path d=\"M0 0h24v24H0V0z\" fill=\"none\"/>\n",
              "    <path d=\"M18.56 5.44l.94 2.06.94-2.06 2.06-.94-2.06-.94-.94-2.06-.94 2.06-2.06.94zm-11 1L8.5 8.5l.94-2.06 2.06-.94-2.06-.94L8.5 2.5l-.94 2.06-2.06.94zm10 10l.94 2.06.94-2.06 2.06-.94-2.06-.94-.94-2.06-.94 2.06-2.06.94z\"/><path d=\"M17.41 7.96l-1.37-1.37c-.4-.4-.92-.59-1.43-.59-.52 0-1.04.2-1.43.59L10.3 9.45l-7.72 7.72c-.78.78-.78 2.05 0 2.83L4 21.41c.39.39.9.59 1.41.59.51 0 1.02-.2 1.41-.59l7.78-7.78 2.81-2.81c.8-.78.8-2.07 0-2.86zM5.41 20L4 18.59l7.72-7.72 1.47 1.35L5.41 20z\"/>\n",
              "  </svg>\n",
              "      </button>\n",
              "      \n",
              "  <style>\n",
              "    .colab-df-container {\n",
              "      display:flex;\n",
              "      flex-wrap:wrap;\n",
              "      gap: 12px;\n",
              "    }\n",
              "\n",
              "    .colab-df-convert {\n",
              "      background-color: #E8F0FE;\n",
              "      border: none;\n",
              "      border-radius: 50%;\n",
              "      cursor: pointer;\n",
              "      display: none;\n",
              "      fill: #1967D2;\n",
              "      height: 32px;\n",
              "      padding: 0 0 0 0;\n",
              "      width: 32px;\n",
              "    }\n",
              "\n",
              "    .colab-df-convert:hover {\n",
              "      background-color: #E2EBFA;\n",
              "      box-shadow: 0px 1px 2px rgba(60, 64, 67, 0.3), 0px 1px 3px 1px rgba(60, 64, 67, 0.15);\n",
              "      fill: #174EA6;\n",
              "    }\n",
              "\n",
              "    [theme=dark] .colab-df-convert {\n",
              "      background-color: #3B4455;\n",
              "      fill: #D2E3FC;\n",
              "    }\n",
              "\n",
              "    [theme=dark] .colab-df-convert:hover {\n",
              "      background-color: #434B5C;\n",
              "      box-shadow: 0px 1px 3px 1px rgba(0, 0, 0, 0.15);\n",
              "      filter: drop-shadow(0px 1px 2px rgba(0, 0, 0, 0.3));\n",
              "      fill: #FFFFFF;\n",
              "    }\n",
              "  </style>\n",
              "\n",
              "      <script>\n",
              "        const buttonEl =\n",
              "          document.querySelector('#df-75e69398-fd05-46e6-ad16-7e33de460d03 button.colab-df-convert');\n",
              "        buttonEl.style.display =\n",
              "          google.colab.kernel.accessAllowed ? 'block' : 'none';\n",
              "\n",
              "        async function convertToInteractive(key) {\n",
              "          const element = document.querySelector('#df-75e69398-fd05-46e6-ad16-7e33de460d03');\n",
              "          const dataTable =\n",
              "            await google.colab.kernel.invokeFunction('convertToInteractive',\n",
              "                                                     [key], {});\n",
              "          if (!dataTable) return;\n",
              "\n",
              "          const docLinkHtml = 'Like what you see? Visit the ' +\n",
              "            '<a target=\"_blank\" href=https://colab.research.google.com/notebooks/data_table.ipynb>data table notebook</a>'\n",
              "            + ' to learn more about interactive tables.';\n",
              "          element.innerHTML = '';\n",
              "          dataTable['output_type'] = 'display_data';\n",
              "          await google.colab.output.renderOutput(dataTable, element);\n",
              "          const docLink = document.createElement('div');\n",
              "          docLink.innerHTML = docLinkHtml;\n",
              "          element.appendChild(docLink);\n",
              "        }\n",
              "      </script>\n",
              "    </div>\n",
              "  </div>\n",
              "  "
            ]
          },
          "metadata": {},
          "execution_count": 31
        }
      ]
    }
  ]
}